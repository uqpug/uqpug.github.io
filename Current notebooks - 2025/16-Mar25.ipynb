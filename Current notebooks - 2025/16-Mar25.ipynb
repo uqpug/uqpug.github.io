{
 "cells": [
  {
   "cell_type": "markdown",
   "metadata": {},
   "source": [
    "# 2025 Mar 6<sup>th</sup> -- UQ PUG 16\n",
    "\n",
    "Welcome to UQ Python User Group! Check out our [general info](../readme.md) for how we work and what we do. Below you'll find the details of this month's gathering.\n",
    "\n",
    "## Overview\n",
    "\n",
    "Welcome to the second PUG for the year! This month we'll look go through the most popular Python packages (by download) and explore their most useful features.\n",
    "\n",
    "### Structure\n",
    "\n",
    "1. We start today by adding our names to the table below\n",
    "1. Add your questions to this page\n",
    "1. This month's presentation\n",
    "1. Finally, we spend the rest of the session answering the questions you've brought!\n",
    "\n",
    "### Teams\n",
    "\n",
    "We have moved from a mailing list to a Teams channel! [Opt-in to receive PUG updates](https://forms.office.com/Pages/ResponsePage.aspx?id=z3fjtrOdy0aRovrZYFuxXEzmI13TctBBiWhneXZv-1lUQ1MwQ0JUM0ZBS0hXV1NJSU04TEZEUFg2Si4u)\n",
    "\n",
    "### How to use this document\n",
    "\n",
    "This is a [Jupyter Notebook](https://jupyter.org/), a document format where everything is separated into **cells**. Each cell contains either *[markdown](https://www.markdownguide.org/)*, or *[python](https://www.python.org/)*.\n",
    "\n",
    "- The *markdown* cells allow you to write formatted text\n",
    "- The *python* cells allow you to write AND run python\n",
    "\n",
    "#### A few tips\n",
    "- Double click on a cell to edit it\n",
    "- CTRL + ENTER to run a cell\n",
    "- Press `+ Code` or `+ Markdown` in the top menu to create new cells. Alternatively, press the buttons between cells\n",
    "\n",
    "### Training Resources\n",
    "\n",
    "We offer Python training sessions and resources, you can find our introductory guide [here](https://github.com/uqlibrary/technology-training/blob/master/Python/python_intro/python_intro.md).\n"
   ]
  },
  {
   "cell_type": "markdown",
   "metadata": {},
   "source": [
    "## Introduce yourself\n",
    "| What's your name? | Where are you from? | Why are you here? |\n",
    "| --- | --- | --- |\n",
    "| Cameron | UQ Library & SMP | To share and learn | \n",
    "| Juddi | School of Communication and Arts | - |\n",
    "| Duncan | SPPS | To learn more about Python | \n",
    "| Elizabeth | - | - |\n",
    "| John | - | - |\n",
    "| Titus | - | - |\n",
    "| Krystie | - | - |"
   ]
  },
  {
   "cell_type": "markdown",
   "metadata": {},
   "source": [
    "## Questions\n",
    "\n",
    "If you have any Python questions you'd like to explore with the group, please put your question and name in the sections below.\n",
    "\n",
    "If you think you can help, feel free to contribute to the answers section!\n"
   ]
  },
  {
   "cell_type": "markdown",
   "metadata": {},
   "source": [
    "### Automation packages | Duncan\n",
    "Do you have any ideas about which popular packages are useful for automation in windows?"
   ]
  },
  {
   "cell_type": "code",
   "execution_count": 15,
   "metadata": {},
   "outputs": [
    {
     "name": "stdout",
     "output_type": "stream",
     "text": [
      "Using pandas' read_csv() function: \n",
      "\n",
      "       download_count        project\n",
      "0          1346601849          boto3\n",
      "1           670262655        urllib3\n",
      "2           609967137       botocore\n",
      "3           576250793       requests\n",
      "4           563169502        certifi\n",
      "...               ...            ...\n",
      "14995           25173        chilkat\n",
      "14996           25169       aioradio\n",
      "14997           25165        binilla\n",
      "14998           25160   testarchiver\n",
      "14999           25159  starlette-wtf\n",
      "\n",
      "[15000 rows x 2 columns]\n",
      "\n",
      "Using base python's open() and .read() functions: \n",
      "\n",
      "download_count,project\n",
      "1346601849,boto3\n",
      "670262655,urllib3\n",
      "609967137,botocore\n",
      "576250793,requests\n",
      "563169502,certifi\n",
      "533963799,charset-normalizer\n",
      "515259652,setuptools\n",
      "512857052,idna\n",
      "492528430,grpcio-stat\n",
      "...\n"
     ]
    }
   ],
   "source": [
    "# To interact with the filesystem\n",
    "import os\n",
    "\n",
    "# For copying/renaming/more complex operations\n",
    "import shutil\n",
    "\n",
    "# To interact with spreadsheets\n",
    "import pandas as pd\n",
    "\n",
    "# Folder full of spreadsheets\n",
    "path = r\"..\\Demonstrations\\top_modules\\spreadsheets\"\n",
    "\n",
    "# Returns a list of files at the specified folder\n",
    "files = os.listdir(path)\n",
    "\n",
    "# Looping will automate for you\n",
    "for file in files:\n",
    "    full_path = os.path.join(path, file)\n",
    "\n",
    "    # Read in any file (using a 'with' means the file automatically closes)\n",
    "    with open(full_path) as f:\n",
    "        contents = f.read()\n",
    "\n",
    "    # Read in dataframes (e.g. .csv, .xlsx, see pd.read_... for the possibilities)\n",
    "    df = pd.read_csv(full_path)\n",
    "\n",
    "\n",
    "print(f\"Using pandas' read_csv() function: \\n\\n{df}\")\n",
    "print(f\"\\nUsing base python's open() and .read() functions: \\n\\n{contents[0:200]}\\n...\")"
   ]
  },
  {
   "cell_type": "markdown",
   "metadata": {},
   "source": [
    "#### Answers\n",
    "* See code above\n",
    "* Answer 2\n",
    "* ..."
   ]
  },
  {
   "cell_type": "markdown",
   "metadata": {},
   "source": [
    "### Matching company names | Elizabeth \n",
    "Match names from data list"
   ]
  },
  {
   "cell_type": "code",
   "execution_count": 16,
   "metadata": {},
   "outputs": [
    {
     "name": "stdout",
     "output_type": "stream",
     "text": [
      "This is a long sentence with lots of words like Google, Rio and Tinto.\n",
      "\n",
      "Single keyword\n",
      "Is Google in my sentence? True\n",
      "\n",
      "Multiple keywords\n",
      "Is Google in my sentence? True\n",
      "Is Amazon in my sentence? False\n",
      "\n",
      "Multiple companies with multiple keywords\n",
      "Is Google in my sentence? True\n",
      "Is Amazon in my sentence? False\n",
      "Is Rio-Tinto in my sentence? True\n"
     ]
    }
   ],
   "source": [
    "# Before you start trying to use Python, try to write down by hand what the \n",
    "# algorithm would be.\n",
    "\n",
    "\n",
    "sentence = \"This is a long sentence with lots of words like Google, Rio and Tinto.\"\n",
    "print(sentence)\n",
    "\n",
    "# Single string, single keyword:\n",
    "keyword = \"Google\"\n",
    "matched = keyword in sentence\n",
    "\n",
    "print()\n",
    "print(\"Single keyword\")\n",
    "print(\"Is\", keyword, \"in my sentence?\", matched)\n",
    "\n",
    "# Single string, multiple keywords\n",
    "keywords = [\"Google\", \"Amazon\"]\n",
    "\n",
    "print()\n",
    "print(\"Multiple keywords\")\n",
    "\n",
    "for company in keywords:\n",
    "    matched = company in sentence\n",
    "    print(\"Is\", company, \"in my sentence?\", matched)\n",
    "\n",
    "\n",
    "# Single string, multiple companies with multiple keywords (note the nested keywords for RioTinto)\n",
    "keywords = [[\"Google\"], [\"Amazon\"], [\"Rio-Tinto\", \"Rio\", \"Tinto\", \"RioTinto\", \"Rio Tinto\"]]\n",
    "\n",
    "print()\n",
    "print(\"Multiple companies with multiple keywords\")\n",
    "for company in keywords:\n",
    "    for variant in company:  \n",
    "        matched = variant in sentence\n",
    "\n",
    "        if matched == True:\n",
    "            break\n",
    "    \n",
    "    print(\"Is\", company[0], \"in my sentence?\", matched)"
   ]
  },
  {
   "cell_type": "code",
   "execution_count": 20,
   "metadata": {},
   "outputs": [
    {
     "name": "stdout",
     "output_type": "stream",
     "text": [
      "The rows with boto are\n",
      "       download_count                             project\n",
      "0          1346601849                               boto3\n",
      "2           609967137                            botocore\n",
      "11          454054215                         aiobotocore\n",
      "554          16054951                         boto3-stubs\n",
      "566          15361139                      botocore-stubs\n",
      "...               ...                                 ...\n",
      "14971           25243      botocore-a-la-carte-greengrass\n",
      "14974           25236  botocore-a-la-carte-workspaces-web\n",
      "14977           25219       types-aiobotocore-securityhub\n",
      "14987           25185  types-aiobotocore-servicediscovery\n",
      "14991           25182     botocore-a-la-carte-iotsitewise\n",
      "\n",
      "[533 rows x 2 columns]\n",
      "The rows with py are\n",
      "       download_count                        project\n",
      "12          453387776                python-dateutil\n",
      "15          381826344                          numpy\n",
      "16          360961023                         pyyaml\n",
      "23          283246117                       pydantic\n",
      "24          282364469                      pycparser\n",
      "...               ...                            ...\n",
      "14969           25252                pytest-splinter\n",
      "14972           25242    tencentcloud-sdk-python-acp\n",
      "14973           25241                        xrpl-py\n",
      "14984           25203               opening-hours-py\n",
      "14994           25174  tencentcloud-sdk-python-hasim\n",
      "\n",
      "[3275 rows x 2 columns]\n"
     ]
    }
   ],
   "source": [
    "# Using string data\n",
    "import pandas as pd\n",
    "\n",
    "df = pd.read_csv(\"../Demonstrations/top_modules/spreadsheets/top-pypi-packages.csv\")\n",
    "\n",
    "# The column \"project\" is a string column\n",
    "\n",
    "# Let's make a list of keywords.\n",
    "keywords = [\"boto\", \"py\"]\n",
    "\n",
    "# To check which entries match which keywords\n",
    "for keyword in keywords:\n",
    "    matches = df[\"project\"].str.contains(keyword)\n",
    "    subset_with_keyword = df[matches == True]\n",
    "\n",
    "    print(\"The rows with\",keyword, \"are\")\n",
    "    print(subset_with_keyword)\n"
   ]
  },
  {
   "cell_type": "markdown",
   "metadata": {},
   "source": [
    "#### Answers\n",
    "* Answer 1\n",
    "* Answer 2\n",
    "* ..."
   ]
  },
  {
   "cell_type": "markdown",
   "metadata": {},
   "source": [
    "### Question 3: Is it possible using Phyton for Facebook data scraping? Particularly related to Posts and their interactions on public Facebook groups  | Juddi\n",
    "Add more details here, then press CTRL + ENTER when you're done"
   ]
  },
  {
   "cell_type": "code",
   "execution_count": 19,
   "metadata": {},
   "outputs": [],
   "source": [
    "# Put any code you'd like to run here!\n",
    "\n",
    "\n",
    "# YOU COULD RUN INTO ISSUES AND GET BANNED WITH REQUESTS\n",
    "import requests\n",
    "\n",
    "r = requests.get(\"https://www.facebook.com/groups/553828734993634/\")\n",
    "\n",
    "data = r.content\n",
    "\n",
    "# MAYBE TRY SELENIUM (or the Python module)\n",
    "\n",
    "# Talk to Sam Hames"
   ]
  },
  {
   "cell_type": "markdown",
   "metadata": {},
   "source": [
    "#### Answers\n",
    "* Answer 1\n",
    "* Answer 2\n",
    "* ..."
   ]
  },
  {
   "cell_type": "markdown",
   "metadata": {},
   "source": [
    "#### Answers\n",
    "* Answer 1\n",
    "* Answer 2\n",
    "* ..."
   ]
  },
  {
   "cell_type": "markdown",
   "metadata": {},
   "source": [
    "### Question 5: Question | Name\n",
    "Add more details here, then press CTRL + ENTER when you're done"
   ]
  },
  {
   "cell_type": "code",
   "execution_count": null,
   "metadata": {},
   "outputs": [],
   "source": [
    "# Put any code you'd like to run here!"
   ]
  },
  {
   "cell_type": "markdown",
   "metadata": {},
   "source": [
    "#### Answers\n",
    "* Answer 1\n",
    "* Answer 2\n",
    "* ..."
   ]
  }
 ],
 "metadata": {
  "kernelspec": {
   "display_name": "Python 3",
   "language": "python",
   "name": "python3"
  },
  "language_info": {
   "codemirror_mode": {
    "name": "ipython",
    "version": 3
   },
   "file_extension": ".py",
   "mimetype": "text/x-python",
   "name": "python",
   "nbconvert_exporter": "python",
   "pygments_lexer": "ipython3",
   "version": "3.12.1"
  }
 },
 "nbformat": 4,
 "nbformat_minor": 2
}
