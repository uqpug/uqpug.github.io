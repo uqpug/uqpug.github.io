{
 "cells": [
  {
   "cell_type": "markdown",
   "metadata": {},
   "source": [
    "# 2025 Apr 3<sup>rd</sup> -- UQ PUG 17\n",
    "\n",
    "Welcome to UQ Python User Group! Check out our [general info](../readme.md) for how we work and what we do. Below you'll find the details of this month's gathering.\n",
    "\n",
    "## Overview\n",
    "\n",
    "Welcome to the second PUG for the year! This month we're taking a look at **Jupyter notebooks**.\n",
    "\n",
    "### Structure\n",
    "\n",
    "1. We start today by adding our names to the table below\n",
    "1. Add your questions to this page\n",
    "1. This month's presentation\n",
    "1. Finally, we spend the rest of the session answering the questions you've brought!\n",
    "\n",
    "### Teams\n",
    "\n",
    "We have moved from a mailing list to a Teams channel! [Opt-in to receive PUG updates](https://forms.office.com/Pages/ResponsePage.aspx?id=z3fjtrOdy0aRovrZYFuxXEzmI13TctBBiWhneXZv-1lUQ1MwQ0JUM0ZBS0hXV1NJSU04TEZEUFg2Si4u)\n",
    "\n",
    "### How to use this document\n",
    "\n",
    "This is a [Jupyter Notebook](https://jupyter.org/), a document format where everything is separated into **cells**. Each cell contains either *[markdown](https://www.markdownguide.org/)*, or *[python](https://www.python.org/)*.\n",
    "\n",
    "- The *markdown* cells allow you to write formatted text\n",
    "- The *python* cells allow you to write AND run python\n",
    "\n",
    "#### A few tips\n",
    "- Double click on a cell to edit it\n",
    "- CTRL + ENTER to run a cell\n",
    "- Press `+ Code` or `+ Markdown` in the top menu to create new cells. Alternatively, press the buttons between cells\n",
    "\n",
    "### Training Resources\n",
    "\n",
    "We offer Python training sessions and resources, you can find our introductory guide [here](https://github.com/uqlibrary/technology-training/blob/master/Python/python_intro/python_intro.md).\n"
   ]
  },
  {
   "cell_type": "code",
   "execution_count": null,
   "metadata": {},
   "outputs": [],
   "source": [
    "# Put any code you'd like to run here!\n",
    "\n",
    "# For simpler stuff:\n",
    "import scipy.stats as stats\n",
    "\n",
    "# For more comprehensive modelling\n",
    "import statsmodels.formula.api as smf\n",
    "\n",
    "import pandas as pd\n",
    "\n",
    "import matplotlib.pyplot as plt\n",
    "\n",
    "# Bring in my data\n",
    "df = pd.read_csv(\"../datasets/gapminder.csv\")\n",
    "\n",
    "df = df[df[\"country\"] == \"Australia\"]\n",
    "df = df[[\"year\", \"pop\"]]\n",
    "\n",
    "# Perform OLS\n",
    "model = smf.ols(\"pop ~ year\", data = df)\n",
    "\n",
    "results = model.fit()\n",
    "results.summary()\n",
    "\n",
    "plt.plot(df[\"year\"], results.fittedvalues, \"r\")\n",
    "plt.plot(df[\"year\"], df[\"pop\"], \".\")"
   ]
  },
  {
   "cell_type": "markdown",
   "metadata": {},
   "source": [
    "#### Answers\n",
    "* [You might find this page useful - from our January training intensive](https://camwest5.github.io/python-training-intensive/Workshops/5%20-%20Statistics.html)\n",
    "* The `statsmodels` package is your friend here - see how I've used it above for an OLS regression. [This page](https://www.statsmodels.org/stable/api.html#statsmodels-formula-api) has a summary of the functions you can do\n",
    "* "
   ]
  },
  {
   "cell_type": "markdown",
   "metadata": {},
   "source": [
    "## Introduce yourself\n",
    "| What's your name? | Where are you from? | Why are you here? |\n",
    "| --- | --- | --- |\n",
    "| Cameron | UQ Library & SMP | To share and learn | \n",
    "| Anne | China / School of the Environment | Inspired by friend | \n",
    "| He Yang | China / School of the Envirnoment | Inspired by friend |\n",
    "| Jessie | Faculty of Health | Data analysis | learn from the room |\n",
    "| Georgina | Virology  PhD | earning about machine learning models in Pythonn |\n",
    "| Duncan | SPPS | Data Analysis to support school academics/Learn to automate tasks in Winndows |"
   ]
  },
  {
   "cell_type": "markdown",
   "metadata": {},
   "source": [
    "## Questions\n",
    "\n",
    "If you have any Python questions you'd like to explore with the group, please put your question and name in the sections below.\n",
    "\n",
    "If you think you can help, feel free to contribute to the answers section!\n"
   ]
  },
  {
   "cell_type": "markdown",
   "metadata": {},
   "source": [
    "### What are your Python use cases? | Cameron\n",
    "Why do you want to / do use Python"
   ]
  },
  {
   "cell_type": "code",
   "execution_count": 10,
   "metadata": {},
   "outputs": [],
   "source": [
    "# Put any code you'd like to run here!"
   ]
  },
  {
   "cell_type": "markdown",
   "metadata": {},
   "source": [
    "#### Answers\n",
    "* Answer 1\n",
    "* Answer 2\n",
    "* ..."
   ]
  },
  {
   "cell_type": "markdown",
   "metadata": {},
   "source": [
    "### Some question | Anne\n",
    "Add more details here, then press CTRL + ENTER when you're done"
   ]
  },
  {
   "cell_type": "code",
   "execution_count": 11,
   "metadata": {},
   "outputs": [],
   "source": [
    "# Put any code you'd like to run here!"
   ]
  },
  {
   "cell_type": "markdown",
   "metadata": {},
   "source": [
    "#### Answers\n",
    "* Answer 1\n",
    "* Answer 2\n",
    "* ..."
   ]
  },
  {
   "cell_type": "markdown",
   "metadata": {},
   "source": [
    "### How do I run a regression model to check for regression to the mean on a data set in Excel/CSV? | Duncan\n",
    "Add more details here, then press CTRL + ENTER when you're done"
   ]
  },
  {
   "cell_type": "markdown",
   "metadata": {},
   "source": [
    "### Markdown in Python outputs | He Yang / Cameron\n",
    "Add more details here, then press CTRL + ENTER when you're done"
   ]
  },
  {
   "cell_type": "code",
   "execution_count": 32,
   "metadata": {},
   "outputs": [],
   "source": [
    "# Put any code you'd like to run here!\n",
    "\n",
    "# ONce you've installed markdown\n",
    "from markdown import markdown"
   ]
  },
  {
   "cell_type": "markdown",
   "metadata": {},
   "source": [
    "#### Answers\n",
    "* `pip install markdown`\n",
    "* Answer 2\n",
    "* ..."
   ]
  },
  {
   "cell_type": "markdown",
   "metadata": {},
   "source": [
    "### Where to start with machine learning? | Jessie\n",
    "Add more details here, then press CTRL + ENTER when you're done"
   ]
  },
  {
   "cell_type": "code",
   "execution_count": null,
   "metadata": {},
   "outputs": [],
   "source": [
    "# Put any code you'd like to run here!\n",
    "\n"
   ]
  },
  {
   "cell_type": "markdown",
   "metadata": {},
   "source": [
    "#### Answers\n",
    "* Start with SciKit: https://scikit-learn.org\n",
    "* Then try Keras: https://keras.io/\n",
    "* PyTorch: https://pytorch.org/\n",
    "  \n",
    "Check those website for how to install (e.g. with `conda` or `pip`)"
   ]
  },
  {
   "cell_type": "markdown",
   "metadata": {},
   "source": [
    "### Packaging modules | He Yang\n",
    "Add more details here, then press CTRL + ENTER when you're done"
   ]
  },
  {
   "cell_type": "code",
   "execution_count": 4,
   "metadata": {},
   "outputs": [
    {
     "name": "stdout",
     "output_type": "stream",
     "text": [
      "Hello!\n"
     ]
    }
   ],
   "source": [
    "# Put any code you'd like to run here!\n",
    "import final_test_module.test_module as tm\n",
    "\n",
    "tm.test_function()\n",
    "\n",
    "\n"
   ]
  },
  {
   "cell_type": "markdown",
   "metadata": {},
   "source": [
    "#### Answers\n",
    "* "
   ]
  }
 ],
 "metadata": {
  "kernelspec": {
   "display_name": "Python 3",
   "language": "python",
   "name": "python3"
  },
  "language_info": {
   "codemirror_mode": {
    "name": "ipython",
    "version": 3
   },
   "file_extension": ".py",
   "mimetype": "text/x-python",
   "name": "python",
   "nbconvert_exporter": "python",
   "pygments_lexer": "ipython3",
   "version": "3.12.1"
  }
 },
 "nbformat": 4,
 "nbformat_minor": 2
}
