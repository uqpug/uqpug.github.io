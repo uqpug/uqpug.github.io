{
 "cells": [
  {
   "cell_type": "markdown",
   "metadata": {},
   "source": [
    "# 2025 Oct 2<sup>nd</sup> -- UQ PUG 22\n",
    "\n",
    "Welcome to UQ Python User Group! Check out our [general info](../readme.md) for how we work and what we do. Below you'll find the details of this month's gathering.\n",
    "\n",
    "## Overview\n",
    "\n",
    "Welcome to the October UQ PUG! This month we discussed [`geopandas`](https://geopandas.org/en/stable/docs/reference/), a Python package for managing geospatial data. See their\n",
    "  \n",
    "* [Documentation](https://geopandas.org/en/stable/docs.html)\n",
    "* [Getting started](https://geopandas.org/en/stable/getting_started.html)\n",
    "\n",
    "[As well as this helpful list of Python module (nick)naming conventions](https://import-as.github.io/).\n",
    "\n",
    "### Structure\n",
    "\n",
    "1. We start today by adding our names to the table below\n",
    "1. Add your questions to this page\n",
    "1. This month's presentation\n",
    "1. Finally, we spend the rest of the session answering the questions you've brought!\n",
    "\n",
    "### Teams\n",
    "\n",
    "If you'd like to receive regular updates and post questions during the month, [join our Teams channel!](https://forms.office.com/Pages/ResponsePage.aspx?id=z3fjtrOdy0aRovrZYFuxXEzmI13TctBBiWhneXZv-1lUQ1MwQ0JUM0ZBS0hXV1NJSU04TEZEUFg2Si4u)\n",
    "\n",
    "### How to use this document\n",
    "\n",
    "This is a [Jupyter Notebook](https://jupyter.org/), a document format where everything is separated into **cells**. Each cell contains either *[markdown](https://www.markdownguide.org/)*, or *[python](https://www.python.org/)*.\n",
    "\n",
    "- The *markdown* cells allow you to write formatted text\n",
    "- The *python* cells allow you to write AND run python\n",
    "\n",
    "#### A few tips\n",
    "- Double click on a cell to edit it\n",
    "- CTRL + ENTER to run a cell\n",
    "- Press `+ Code` or `+ Markdown` in the top menu to create new cells. Alternatively, press the buttons between cells\n",
    "\n",
    "### Training Resources\n",
    "\n",
    "We offer Python training sessions and resources, you can find our introductory guide [here](https://github.com/uqlibrary/technology-training/blob/master/Python/python_intro/python_intro.md).\n"
   ]
  },
  {
   "cell_type": "markdown",
   "metadata": {},
   "source": [
    "## Introduce yourself\n",
    "| What's your name? | Where are you from? | Why are you here? |\n",
    "| --- | --- | --- |\n",
    "| Steph | Library | Here to help and learn! |\n",
    "| Nick | Library | Here to help and learn! |\n",
    "| Prince | SBMS | Completing PhD in cancer biology | \n",
    "| Ruly | Chemical Engineering | . |\n"
   ]
  },
  {
   "cell_type": "markdown",
   "metadata": {},
   "source": [
    "## Questions\n",
    "\n",
    "If you have any Python questions you'd like to explore with the group, please put your question and name in the sections below.\n",
    "\n",
    "If you think you can help, feel free to contribute to the answers section!\n"
   ]
  },
  {
   "cell_type": "markdown",
   "metadata": {},
   "source": [
    "### Question 1: GenX and Julia\n",
    "We discussed using the [GenX](https://juliapackages.com/p/genx), [Julia](https://julialang.org/) package. Julia is a relatively new and increasingly popular Python-like language due to its performance capabilities."
   ]
  }
 ],
 "metadata": {
  "kernelspec": {
   "display_name": "Python 3",
   "language": "python",
   "name": "python3"
  },
  "language_info": {
   "codemirror_mode": {
    "name": "ipython",
    "version": 3
   },
   "file_extension": ".py",
   "mimetype": "text/x-python",
   "name": "python",
   "nbconvert_exporter": "python",
   "pygments_lexer": "ipython3",
   "version": "3.12.1"
  }
 },
 "nbformat": 4,
 "nbformat_minor": 2
}
