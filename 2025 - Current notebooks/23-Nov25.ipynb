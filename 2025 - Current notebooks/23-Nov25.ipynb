{
 "cells": [
  {
   "cell_type": "markdown",
   "metadata": {},
   "source": [
    "# 2025 Nov 6<sup>th</sup> -- UQ PUG 23\n",
    "\n",
    "Welcome to UQ Python User Group! Check out our [general info](../readme.md) for how we work and what we do. Below you'll find the details of this month's gathering.\n",
    "\n",
    "## Overview\n",
    "\n",
    "Welcome to the November UQ PUG! This month we discuss [**Dash**](https://dash.plotly.com/tutorial), a \"low-code framework for rapidly building data apps in Python\".\n",
    "\n",
    "### Structure\n",
    "\n",
    "We'll work from an interactive document today, so please [join in](https://pad.education/p/uqpug). Notes will then be transferred to this page.\n",
    "\n",
    "1. We start today by adding our names\n",
    "1. Then, add your questions to the document\n",
    "1. This month's presentation\n",
    "1. Finally, we spend the rest of the session answering the questions you've brought!\n",
    "\n",
    "### Teams\n",
    "\n",
    "If you'd like to receive regular updates and post questions during the month, [join our Teams channel!](https://forms.office.com/Pages/ResponsePage.aspx?id=z3fjtrOdy0aRovrZYFuxXEzmI13TctBBiWhneXZv-1lUQ1MwQ0JUM0ZBS0hXV1NJSU04TEZEUFg2Si4u)\n",
    "\n",
    "### Training Resources\n",
    "\n",
    "We offer Python training sessions and resources, you can find our introductory guide [here](https://github.com/uqlibrary/technology-training/blob/master/Python/python_intro/python_intro.md).\n"
   ]
  },
  {
   "cell_type": "markdown",
   "metadata": {},
   "source": [
    "## Introduce yourself\n",
    "| What's your name? | Where are you from? | Why are you here? |\n",
    "| --- | --- | --- |\n",
    "| Name | Organisation/School | Reason for coming| \n"
   ]
  },
  {
   "cell_type": "markdown",
   "metadata": {},
   "source": [
    "## Questions\n",
    "\n",
    "If you have any Python questions you'd like to explore with the group, please put your question and name in the sections below.\n",
    "\n",
    "If you think you can help, feel free to contribute to the answers section!\n"
   ]
  },
  {
   "cell_type": "markdown",
   "metadata": {},
   "source": [
    "### Question | Name\n",
    "Add more details here, then press CTRL + ENTER when you're done"
   ]
  },
  {
   "cell_type": "code",
   "execution_count": 10,
   "metadata": {},
   "outputs": [],
   "source": [
    "# Put any code you'd like to run here!"
   ]
  },
  {
   "cell_type": "markdown",
   "metadata": {},
   "source": [
    "#### Answers\n",
    "* Answer 1\n",
    "* Answer 2\n",
    "* ..."
   ]
  },
  {
   "cell_type": "markdown",
   "metadata": {},
   "source": [
    "### Question | Name\n",
    "Add more details here, then press CTRL + ENTER when you're done"
   ]
  },
  {
   "cell_type": "code",
   "execution_count": null,
   "metadata": {},
   "outputs": [],
   "source": [
    "# Put any code you'd like to run here!"
   ]
  },
  {
   "cell_type": "markdown",
   "metadata": {},
   "source": [
    "#### Answers\n",
    "* Answer 1\n",
    "* Answer 2\n",
    "* ..."
   ]
  },
  {
   "cell_type": "markdown",
   "metadata": {},
   "source": [
    "### Question | Name\n",
    "Add more details here, then press CTRL + ENTER when you're done"
   ]
  },
  {
   "cell_type": "code",
   "execution_count": null,
   "metadata": {},
   "outputs": [],
   "source": [
    "# Put any code you'd like to run here!"
   ]
  },
  {
   "cell_type": "markdown",
   "metadata": {},
   "source": [
    "#### Answers\n",
    "* Answer 1\n",
    "* Answer 2\n",
    "* ..."
   ]
  },
  {
   "cell_type": "markdown",
   "metadata": {},
   "source": [
    "### Question | Name\n",
    "Add more details here, then press CTRL + ENTER when you're done"
   ]
  },
  {
   "cell_type": "code",
   "execution_count": null,
   "metadata": {},
   "outputs": [],
   "source": [
    "# Put any code you'd like to run here!"
   ]
  },
  {
   "cell_type": "markdown",
   "metadata": {},
   "source": [
    "#### Answers\n",
    "* Answer 1\n",
    "* Answer 2\n",
    "* ..."
   ]
  }
 ],
 "metadata": {
  "kernelspec": {
   "display_name": "Python 3",
   "language": "python",
   "name": "python3"
  },
  "language_info": {
   "codemirror_mode": {
    "name": "ipython",
    "version": 3
   },
   "file_extension": ".py",
   "mimetype": "text/x-python",
   "name": "python",
   "nbconvert_exporter": "python",
   "pygments_lexer": "ipython3",
   "version": "3.12.1"
  }
 },
 "nbformat": 4,
 "nbformat_minor": 2
}
