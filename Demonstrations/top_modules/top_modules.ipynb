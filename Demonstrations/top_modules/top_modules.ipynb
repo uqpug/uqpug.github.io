{
 "cells": [
  {
   "cell_type": "markdown",
   "metadata": {},
   "source": [
    "# The most popular Python modules\n",
    "*According to PyPI's [most downloaded packages](https://hugovk.github.io/top-pypi-packages/) for February 2025*"
   ]
  },
  {
   "cell_type": "markdown",
   "metadata": {},
   "source": [
    "There's a lot of boring, utility packages. Let's import the top 15,000, and look at the first 15"
   ]
  },
  {
   "cell_type": "code",
   "execution_count": null,
   "metadata": {},
   "outputs": [],
   "source": [
    "import pandas as pd\n",
    "df = pd.read_csv(\"top-pypi-packages.csv\")\n",
    "df.head(15)"
   ]
  },
  {
   "cell_type": "markdown",
   "metadata": {},
   "source": [
    "*BORING*. For reference\n",
    "\n",
    "| Package(s) | Description |\n",
    "| --- | --- |\n",
    "| `boto3`, `botocore`, `aiobotocore` and `s3transfer` | These hook you into Amazon's Web Service (AWS). Connects with a quick runtime. Machine learning, AI etc. |\n",
    "| `urllib3`, `requests` and `certifi` | We'll look at these first, they're useful. For making HTTP (internet) requests. `certifi` is for certificates, used to be in requests. |\n",
    "| `charset-normalizer` and `idna` | For fixing/translating encodings |\n",
    "| `setuptools` and `packaging` | For package development |\n",
    "| `grpcio-status` | For using [GRPC](https://grpc.io/), used for connecting services. |\n",
    "| `typing-extensions`, `python-dateutil` and `six` | Extensions to base Python libraries. `typing-extensions` adds *typing* to older versions of Python 3 (it's a new thing). `python-dateutil` expands Python's `datetime` module. `six` provides cross-compatibility between Python 2 and 3 (because $2\\times 3 = 6$). | "
   ]
  },
  {
   "cell_type": "code",
   "execution_count": null,
   "metadata": {},
   "outputs": [],
   "source": [
    "count = df.head(15)[\"download_count\"].sum()\n",
    "\n",
    "print(f\"Together, these packages been downloaded {count} times in the last MONTH. That's 8.5 billion downloads!\")"
   ]
  },
  {
   "cell_type": "markdown",
   "metadata": {},
   "source": [
    "It's worth pointing out that a lot of these downloads could be automatic - scripts running and restarting, creating virtual environments every time etc.\n",
    "\n",
    "So far, the only ones I want to look at are `urllib3`/`requests`. Let's look to the next 15"
   ]
  },
  {
   "cell_type": "code",
   "execution_count": null,
   "metadata": {},
   "outputs": [],
   "source": [
    "df[15:31]"
   ]
  },
  {
   "cell_type": "markdown",
   "metadata": {},
   "source": [
    "Aha! Here's some more.\n",
    "\n",
    "| Package(s) | Description |\n",
    "| --- | --- |\n",
    "| `numpy` | A numerical Python package. Powerful. |\n",
    "| `pyyaml`, `cffi` and `pycparser` | For connecting with other languages. `pyyaml` is a parser for YAML, yet another markup language. `cffi` is for interacting with C code, while `pycparser` parses it directly. |\n",
    "| `s3fs` | More AWS. |\n",
    "| `pip` and `wheel` | For downloading packages and wheels. `pip` for packages, `wheel` for manipulating wheels. |\n",
    "| `fsspec` | For file system management. |\n",
    "| `google-api-core` | For interacting with Google's API | \n",
    "| `cryptography` and `rsa` | For creating secret keys and decoding, etc. Fun! | \n",
    "| `pydantic` | For validating data - really, for making sure that your data fits the variables/types you expect. |\n",
    "| `pandas` | For manipulating data. Glorified Excel. |\n",
    "| `attrs` | For improving classes. Fun, but a bit too advanced. |\n",
    "| `markupsafe` | For creating strings that escape characters for HTML and XML |\n",
    "| `pyasn1` | Allows use of ASN.1 for managing network protocols |\n",
    "\n",
    "A bit more variety! Today, we'll look at the following packages from this top-30 list, in order:\n",
    "\n",
    "* `requests`\n",
    "* `numpy`\n",
    "* `cryptography`\n"
   ]
  },
  {
   "cell_type": "markdown",
   "metadata": {},
   "source": [
    "## `requests`\n",
    "\n",
    "The `requests` package lets you send HTTP requests. Typically, these are `GET`, for getting things, and `POST`, for sending them."
   ]
  },
  {
   "cell_type": "code",
   "execution_count": null,
   "metadata": {},
   "outputs": [],
   "source": [
    "import requests\n",
    "\n",
    "r = requests.get(\"https://uqpug.github.io/\")\n",
    "r"
   ]
  },
  {
   "cell_type": "markdown",
   "metadata": {},
   "source": [
    "Every HTTP request gets a status response. The code 200 means OK, so \"<Response [200]>\" means it worked.\n",
    "\n",
    "Our response has a lot of attributes. The main one is `r.text`\n",
    "\n",
    "> Note - if you're pulling from an API, usually you'll get JSON code in response. Don't use `r.text` there, use `r.json()`."
   ]
  },
  {
   "cell_type": "code",
   "execution_count": null,
   "metadata": {},
   "outputs": [],
   "source": [
    "r.text"
   ]
  },
  {
   "cell_type": "markdown",
   "metadata": {},
   "source": [
    "This is the HTML for the website. If you want to webscrape, the next thing to do is import the [BeautifulSoup](https://www.crummy.com/software/BeautifulSoup/bs4/doc/) package. We'll leave it there."
   ]
  },
  {
   "cell_type": "markdown",
   "metadata": {},
   "source": [
    "## `numpy`\n",
    "\n",
    "The `numpy` package is huge. There's far too much to cover. But we'll take a look two basics.\n",
    "\n",
    "The first is arrays, a vector-like object that beats lists:"
   ]
  },
  {
   "cell_type": "code",
   "execution_count": null,
   "metadata": {},
   "outputs": [],
   "source": [
    "import numpy as np\n",
    "\n",
    "np.array([1,2,3,4])"
   ]
  },
  {
   "cell_type": "code",
   "execution_count": null,
   "metadata": {},
   "outputs": [],
   "source": [
    "basic_list = [1,2,3,4]\n",
    "\n",
    "basic_list * 2\n",
    "# This is annoying!"
   ]
  },
  {
   "cell_type": "markdown",
   "metadata": {},
   "source": [
    "Why does it beat lists? Watch:"
   ]
  },
  {
   "cell_type": "code",
   "execution_count": null,
   "metadata": {},
   "outputs": [],
   "source": [
    "print([1,2,3,4]*3)\n",
    "print(np.array([1,2,3,4])*3)"
   ]
  },
  {
   "cell_type": "markdown",
   "metadata": {},
   "source": [
    "Arrays can be multidimensional - matrices or tensors!"
   ]
  },
  {
   "cell_type": "code",
   "execution_count": null,
   "metadata": {},
   "outputs": [],
   "source": [
    "import numpy as np\n",
    "top_row = [1,2,3]\n",
    "bottom_row = [4,5,6]\n",
    "\n",
    "np.array([top_row, bottom_row])"
   ]
  },
  {
   "cell_type": "markdown",
   "metadata": {},
   "source": [
    "Let's make two matrices and multiply them, with matrix multiplication:\n",
    "\n",
    "$$\\begin{pmatrix}1&2&3\\\\4&5&6\\end{pmatrix}\\begin{pmatrix}1&2\\\\3&4\\\\5&6\\end{pmatrix}$$\n",
    "\n",
    "We use the `@` symbol to denote matrix multiplication (with `numpy`)"
   ]
  },
  {
   "cell_type": "code",
   "execution_count": null,
   "metadata": {},
   "outputs": [],
   "source": [
    "A = np.array([[1,2,3],[4,5,6]])\n",
    "B = np.array([[1,2],[3,4],[5,6]])\n",
    "\n",
    "A @ B"
   ]
  },
  {
   "cell_type": "markdown",
   "metadata": {},
   "source": [
    "You can also create really long arrays. This is useful for graphing. Using `np.arange(start, stop, interaval)`, and `matplotlib.pyplot` to plot,\n",
    "\n",
    "$$ y = \\frac{\\cos(2π\\times x)}{x} $$"
   ]
  },
  {
   "cell_type": "code",
   "execution_count": null,
   "metadata": {},
   "outputs": [],
   "source": [
    "import matplotlib.pyplot as plt\n",
    "\n",
    "x = np.arange(0.1, 10, 0.0001)\n",
    "y = np.sin(2*np.pi*x) / x\n",
    "\n",
    "plt.plot(x,y)"
   ]
  },
  {
   "cell_type": "markdown",
   "metadata": {},
   "source": [
    "## `cryptography`\n",
    "\n",
    "For making secret keys that require tokens to decript!\n",
    "\n",
    "Basically, we use a key to encrypt our token,\n",
    "\n",
    "$$ \\text{Secret} \\xrightarrow{\\text{Key}} \\text{Token} $$\n",
    "\n",
    "Then use the same key to decrypt it.\n",
    "\n",
    "$$\\text{Key} + \\text{Token} = \\text{Secret}$$\n",
    "\n",
    "We make a key that can be used to generate tokens (i.e. encrypted messages). Then, you use the same key to decode the message. Fernet is one technique to do it:"
   ]
  },
  {
   "cell_type": "code",
   "execution_count": null,
   "metadata": {},
   "outputs": [],
   "source": [
    "from cryptography.fernet import Fernet\n",
    "\n",
    "key = Fernet.generate_key()\n",
    "key\n"
   ]
  },
  {
   "cell_type": "markdown",
   "metadata": {},
   "source": [
    "Now that we have a key, we store it into a `Fernet` object. Then, we turn our secret into a token:"
   ]
  },
  {
   "cell_type": "code",
   "execution_count": null,
   "metadata": {},
   "outputs": [],
   "source": [
    "# Store the key\n",
    "f = Fernet(key)\n",
    "\n",
    "# Encrypt our message\n",
    "token = f.encrypt(b\"my secrets\")\n",
    "token"
   ]
  },
  {
   "cell_type": "markdown",
   "metadata": {},
   "source": [
    "> The `b\"...` means bytes, so its bytecoded.\n",
    "\n",
    "Finally, we use the key (stored in `f`) to decrypt the message from the token"
   ]
  },
  {
   "cell_type": "code",
   "execution_count": null,
   "metadata": {},
   "outputs": [],
   "source": [
    "f.decrypt(token)"
   ]
  }
 ],
 "metadata": {
  "kernelspec": {
   "display_name": "Python 3",
   "language": "python",
   "name": "python3"
  },
  "language_info": {
   "codemirror_mode": {
    "name": "ipython",
    "version": 3
   },
   "file_extension": ".py",
   "mimetype": "text/x-python",
   "name": "python",
   "nbconvert_exporter": "python",
   "pygments_lexer": "ipython3",
   "version": "3.12.1"
  }
 },
 "nbformat": 4,
 "nbformat_minor": 2
}
