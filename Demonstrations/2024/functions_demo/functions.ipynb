{
 "cells": [
  {
   "cell_type": "markdown",
   "metadata": {},
   "source": [
    "# Functions and modular code"
   ]
  },
  {
   "cell_type": "markdown",
   "metadata": {},
   "source": [
    "## Using Functions"
   ]
  },
  {
   "cell_type": "markdown",
   "metadata": {},
   "source": [
    "Functions are a very powerful tool in programming, and Python is no exception. In essence, they are blocks of code that only run when we call them. They work in two steps:\n",
    "1. Define the function\n",
    "1. Call the function\n",
    "\n",
    "Here's a basic example, just to familiarise yourself with how things look.\n",
    "\n",
    "First, the **definition**:\n"
   ]
  },
  {
   "cell_type": "code",
   "execution_count": 5,
   "metadata": {},
   "outputs": [],
   "source": [
    "# Step 1: Define a function\n",
    "\n",
    "# This line begins the function definition\n",
    "def basic_function(input_1, input_2):\n",
    "\n",
    "    # This is the code that runs when we use it\n",
    "    sum_of_inputs = input_1 + input_2\n",
    "    return sum_of_inputs"
   ]
  },
  {
   "cell_type": "markdown",
   "metadata": {},
   "source": [
    "Then, in the code, we **call** it:"
   ]
  },
  {
   "cell_type": "code",
   "execution_count": 53,
   "metadata": {},
   "outputs": [
    {
     "name": "stdout",
     "output_type": "stream",
     "text": [
      "19\n"
     ]
    },
    {
     "ename": "",
     "evalue": "",
     "output_type": "error",
     "traceback": [
      "\u001b[1;31mThe Kernel crashed while executing code in the current cell or a previous cell. \n",
      "\u001b[1;31mPlease review the code in the cell(s) to identify a possible cause of the failure. \n",
      "\u001b[1;31mClick <a href='https://aka.ms/vscodeJupyterKernelCrash'>here</a> for more info. \n",
      "\u001b[1;31mView Jupyter <a href='command:jupyter.viewOutput'>log</a> for further details."
     ]
    }
   ],
   "source": [
    "# Program 'starts' here\n",
    "a = 4\n",
    "b = 15\n",
    "\n",
    "# Call the function above\n",
    "ab_sum = basic_function(a, b)\n",
    "\n",
    "# Print the result\n",
    "print(ab_sum)"
   ]
  },
  {
   "cell_type": "markdown",
   "metadata": {},
   "source": [
    "The following diagram might help:\n",
    "\n",
    "<img src = \"functions.png\" height = 400>"
   ]
  },
  {
   "cell_type": "markdown",
   "metadata": {},
   "source": [
    "\n",
    "\n",
    "\n",
    "We'll walk through an example of using functions now.\n",
    "\n",
    "### Finding areas\n",
    "\n",
    "Imagine you have to write python script that calculates the area of a shape, maybe a rectangle. You could do so with the following:\n",
    "\n",
    "![](rectangle.png)"
   ]
  },
  {
   "cell_type": "code",
   "execution_count": 1,
   "metadata": {},
   "outputs": [
    {
     "name": "stdout",
     "output_type": "stream",
     "text": [
      "The area of the rectangle is 50.\n"
     ]
    }
   ],
   "source": [
    "# Calculate area of rectangle\n",
    "length = 5\n",
    "width = 10\n",
    "area = length * width\n",
    "\n",
    "print(f\"The area of the rectangle is {area}.\")"
   ]
  },
  {
   "cell_type": "markdown",
   "metadata": {},
   "source": [
    "What if you have something more complex, like the combined area of a rectangle and triangle:\n",
    "\n",
    "![](combined.png)"
   ]
  },
  {
   "cell_type": "code",
   "execution_count": 41,
   "metadata": {},
   "outputs": [
    {
     "name": "stdout",
     "output_type": "stream",
     "text": [
      "The area of the rectangle is 55.0.\n"
     ]
    }
   ],
   "source": [
    "# Calculate the area of rectangle\n",
    "length = 5\n",
    "width = 10\n",
    "area_rectangle = length * width\n",
    "\n",
    "# Calcalate area of triangle\n",
    "height = 2\n",
    "area_triangle = 0.5*height*length\n",
    "\n",
    "# Combine\n",
    "area = area_rectangle + area_triangle\n",
    "\n",
    "print(f\"The area of the rectangle is {area}.\")"
   ]
  },
  {
   "cell_type": "markdown",
   "metadata": {},
   "source": [
    "Ok, not too bad. But what about this?\n",
    "\n",
    "<img src=\"composite2.png\" alt=\"drawing\" width=\"400\"/>\n",
    "\n",
    "It's going to take some repeated code, because we have multiple shapes. It'll also look more complicated than it needs to be."
   ]
  },
  {
   "cell_type": "markdown",
   "metadata": {},
   "source": [
    "Firstly, we can split this shape into four:\n",
    "\n",
    "\\begin{align}\n",
    "    A &= A_{Rect}(L = 12, W = 4) + 2A_{Tri}(B = 2, H = 6) + \\frac{1}{2}A_{Circ}(R = 2)\n",
    "\\end{align}\n",
    "\n",
    "We can use functions to do it more *elegantly*, but also open things up for the future. Our goal is to have code that does the following:\n",
    "\n",
    "```python\n",
    "# Define some function(s) for areas\n",
    "\n",
    "# Find the area using those functions:\n",
    "area = area_rectangle(12, 4) + 2*area_triangle(2, 6) + 0.5*area_circle(2)\n",
    "\n",
    "print(f\"The area of the rectangle is {area}.\")\n",
    "```\n",
    "\n",
    "Let's actually do it. Firstly, we can define a function to calculate the area of a rectangle:"
   ]
  },
  {
   "cell_type": "code",
   "execution_count": 11,
   "metadata": {},
   "outputs": [
    {
     "name": "stdout",
     "output_type": "stream",
     "text": [
      "The area of the rectangle is 20.\n"
     ]
    }
   ],
   "source": [
    "def area_rect(length, width):\n",
    "    \"\"\"Determine the area of a rectangle with length and width\"\"\"\n",
    "    area = length * width\n",
    "    return area\n",
    "\n",
    "total_area = area_rect(5, 4)\n",
    "\n",
    "print(f\"The area of the rectangle is {total_area}.\")\n"
   ]
  },
  {
   "cell_type": "markdown",
   "metadata": {},
   "source": [
    "A few notes:\n",
    "- We use `def area_rect( ... ):` to say that we are **defining** a function. It is not run/used here, just defined.\n",
    "- The variable `area` is **only definined inside the function**, meaning it won't be accessible outside. This is called *scope*.\n",
    "- `return` specifies the output, i.e. what to replace `area_rect(5,4)` with.\n",
    "- The quantity inside `\"\"\" ... \"\"\"` is the **docstring** - this is returned when I run `help(area_rect)`.\n",
    "\n",
    "Let's do it for the others now. We need to `import numpy as np` to use `np.pi` - $\\pi = 3.141...$"
   ]
  },
  {
   "cell_type": "code",
   "execution_count": 1,
   "metadata": {},
   "outputs": [
    {
     "name": "stdout",
     "output_type": "stream",
     "text": [
      "The area of the rocket is 66.2831853071796.\n"
     ]
    }
   ],
   "source": [
    "import numpy as np\n",
    "\n",
    "def area_rect(length, width):\n",
    "    \"\"\"Determine the area of a rectangle with length and width\"\"\"\n",
    "    area = length * width\n",
    "    return area\n",
    "\n",
    "def area_triangle(base, height):\n",
    "    \"\"\"Determine the area of a triangle with base and height\"\"\"\n",
    "    area = 0.5 * base * height\n",
    "    return area\n",
    "\n",
    "def area_circle(radius):\n",
    "    \"\"\"Determine the area of a circle with radius\"\"\"\n",
    "    area = np.pi * radius ** 2\n",
    "    return area\n",
    "\n",
    "total_area = area_rect(12, 4) + 2*area_triangle(2, 6) + 0.5*area_circle(2)\n",
    "\n",
    "print(f\"The area of the rocket is {total_area}.\")\n"
   ]
  },
  {
   "cell_type": "markdown",
   "metadata": {},
   "source": [
    "That's how functions work!\n",
    "\n",
    "\n",
    "### Exercise\n",
    "We can simplify this. I challenge you to turn our three functions into *one single function* called `find_area(...)`, and use a conditional to return the correct area. \n",
    "\n",
    "The code below starts things off."
   ]
  },
  {
   "cell_type": "code",
   "execution_count": 19,
   "metadata": {},
   "outputs": [],
   "source": [
    "import numpy as np\n",
    "\n",
    "def find_area(length, width, shape):\n",
    "    if shape == \"rectangle\":\n",
    "        area = ...\n",
    "    elif shape == ... :\n",
    "        area == ...\n"
   ]
  },
  {
   "cell_type": "markdown",
   "metadata": {},
   "source": [
    "One possible solution is:"
   ]
  },
  {
   "cell_type": "code",
   "execution_count": 22,
   "metadata": {},
   "outputs": [
    {
     "name": "stdout",
     "output_type": "stream",
     "text": [
      "The area of the rocket is 66.2831853071796.\n"
     ]
    }
   ],
   "source": [
    "import numpy as np\n",
    "\n",
    "# Final function\n",
    "def find_area(length, width = None, shape = None):\n",
    "    \"\"\"Find the area of a geometric shape\"\"\"\n",
    "    \n",
    "    if shape == \"rectangle\":\n",
    "        area = length * width\n",
    "\n",
    "    elif shape == \"triangle\":\n",
    "        area = 0.5 * length * width\n",
    "\n",
    "    elif shape == \"circle\":\n",
    "        area = np.pi * length ** 2\n",
    "\n",
    "    else:\n",
    "        raise ValueError(f'\"{shape}\" is not a valid parameter for \"shape\"')\n",
    "    \n",
    "    return area\n",
    "\n",
    "\n",
    "total_area = find_area(12, 4, \"rectangle\") + 2*find_area(2, 6, \"triangle\") + 0.5*find_area(2, shape = \"circle\")\n",
    "\n",
    "print(f\"The area of the rocket is {total_area}.\")"
   ]
  },
  {
   "cell_type": "markdown",
   "metadata": {},
   "source": [
    "One more thing - and you can see it in the solution - **optional arguments**.\n",
    "\n",
    "We can write our functions to include options arguments. We do this by specifying defaults for them. For example,"
   ]
  },
  {
   "cell_type": "code",
   "execution_count": 28,
   "metadata": {},
   "outputs": [
    {
     "ename": "TypeError",
     "evalue": "basic_function() missing 1 required positional argument: 'input2'",
     "output_type": "error",
     "traceback": [
      "\u001b[1;31m---------------------------------------------------------------------------\u001b[0m",
      "\u001b[1;31mTypeError\u001b[0m                                 Traceback (most recent call last)",
      "Cell \u001b[1;32mIn[28], line 4\u001b[0m\n\u001b[0;32m      1\u001b[0m \u001b[38;5;28;01mdef\u001b[39;00m \u001b[38;5;21mbasic_function\u001b[39m(input1, input2):\n\u001b[0;32m      2\u001b[0m     \u001b[38;5;28;01mreturn\u001b[39;00m input1 \u001b[38;5;241m+\u001b[39m input2\n\u001b[1;32m----> 4\u001b[0m \u001b[38;5;28mprint\u001b[39m(\u001b[43mbasic_function\u001b[49m\u001b[43m(\u001b[49m\u001b[38;5;241;43m3\u001b[39;49m\u001b[43m)\u001b[49m)\n",
      "\u001b[1;31mTypeError\u001b[0m: basic_function() missing 1 required positional argument: 'input2'"
     ]
    }
   ],
   "source": [
    "def basic_function(input1, input2):\n",
    "    return input1 + input2\n",
    "\n",
    "print(basic_function(3))"
   ]
  },
  {
   "cell_type": "markdown",
   "metadata": {},
   "source": [
    "doesn't work, because there is no default for `input2`. However, if we specify `input2 = 0`,"
   ]
  },
  {
   "cell_type": "code",
   "execution_count": 27,
   "metadata": {},
   "outputs": [
    {
     "name": "stdout",
     "output_type": "stream",
     "text": [
      "3\n"
     ]
    }
   ],
   "source": [
    "def basic_function(input1, input2 = 0):\n",
    "    return input1 + input2\n",
    "\n",
    "print(basic_function(3))"
   ]
  },
  {
   "cell_type": "markdown",
   "metadata": {},
   "source": [
    "it does! The rule is, *optional/default/keyword arguments must come after positional/required arguments.*"
   ]
  },
  {
   "cell_type": "markdown",
   "metadata": {},
   "source": [
    "## Modules\n",
    "\n",
    "A great way to use functions is to stash them all in another script. After all, they're just blocks of code stored for later.\n",
    "\n",
    "In essence, this is what a module is: a bunch of Python stored in another script, usually in functions (or classes).\n",
    "\n",
    "### Putting our functions into a module\n",
    "\n",
    "Let's create a basic module which stores the functions we defined earlier. We need to save them into a .py file and give it a useful name. I've put the functions in a script called \"area_calculation.py\".\n",
    "\n",
    "We can then access those functions by running `import area_calculation`. \n",
    "\n",
    "Everything inside the script can now be accessed through `area_calculation`, where we refer to its contents via the `.` operator:"
   ]
  },
  {
   "cell_type": "code",
   "execution_count": 29,
   "metadata": {},
   "outputs": [
    {
     "data": {
      "text/plain": [
       "6"
      ]
     },
     "execution_count": 29,
     "metadata": {},
     "output_type": "execute_result"
    }
   ],
   "source": [
    "import area_calculation\n",
    "\n",
    "area_calculation.find_area(2, 3, \"rectangle\")"
   ]
  },
  {
   "cell_type": "markdown",
   "metadata": {},
   "source": [
    "### Exercise\n",
    "\n",
    "Congratulations! You've created your first Python module. This only scratches the surface, though.\n",
    "\n",
    "Try defining some new functions in the module, and see if you can access them here. You can also define variables - or anything else; all the code in that file is run when you use `import`."
   ]
  },
  {
   "cell_type": "code",
   "execution_count": 51,
   "metadata": {},
   "outputs": [
    {
     "name": "stdout",
     "output_type": "stream",
     "text": [
      "19\n"
     ]
    }
   ],
   "source": []
  }
 ],
 "metadata": {
  "kernelspec": {
   "display_name": "Python 3",
   "language": "python",
   "name": "python3"
  },
  "language_info": {
   "codemirror_mode": {
    "name": "ipython",
    "version": 3
   },
   "file_extension": ".py",
   "mimetype": "text/x-python",
   "name": "python",
   "nbconvert_exporter": "python",
   "pygments_lexer": "ipython3",
   "version": "3.12.1"
  }
 },
 "nbformat": 4,
 "nbformat_minor": 2
}
