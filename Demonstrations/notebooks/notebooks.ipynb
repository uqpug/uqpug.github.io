{
 "cells": [
  {
   "cell_type": "markdown",
   "metadata": {},
   "source": [
    "# Jupyter notebooks\n",
    "\n",
    "- The basics\n",
    "  - Cells (MD vs Python)\n",
    "  - Demo plots\n",
    "- What is a kernel? Changing kernel.\n",
    "- Platforms - Jupyter notebook vs lab, colab, github codespaces, VS code\n",
    "- Exporting / converting / sharing"
   ]
  }
 ],
 "metadata": {
  "language_info": {
   "name": "python"
  }
 },
 "nbformat": 4,
 "nbformat_minor": 2
}
