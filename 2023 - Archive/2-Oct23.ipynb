{
  "cells": [
    {
      "cell_type": "markdown",
      "id": "cbe1d37d-17e7-4fd2-9c87-15e36c530fec",
      "metadata": {
        "noteable": {
          "cell_type": "markdown"
        }
      },
      "source": [
        "# 2023 Oct 5<sup>th</sup> -- UQ PUG 2"
      ]
    },
    {
      "cell_type": "markdown",
      "id": "99fff582-1c5e-4528-ac5e-2ccbe4dff95b",
      "metadata": {
        "noteable": {
          "cell_type": "markdown"
        }
      },
      "source": [
        "Welcome to UQ Python User Group! Check out our [general information](https://app.noteable.io/f/c84cf34f-03eb-48eb-aff4-ccf80b013b5c/UQ-PUG-General-Info.ipynb?cellID=1e2cf356) for details about who we are and what we do.\n",
        "\n",
        "## Structure\n",
        "\n",
        "1. We start today by adding our names to the table below\n",
        "1. Add your questions to this page\n",
        "1. This month's presentation\n",
        "1. Finally, we spend the rest of the session answering the questions you've brought!\n",
        "\n",
        "## This month's presentation\n",
        "\n",
        "https://forms.office.com/r/TTLGSAxS0k\n",
        "\n",
        "Join us for an informative presentation that delves into the world of Python Integrated Development Environments (IDEs). In this session, we will compare and contrast five popular Python development environments: Spyder, PyCharm, Visual Studio Code (VSCode), Google Colab, and the trusty Command Prompt.\n",
        "\n",
        "https://www.meetup.com/beginners-python-machine-learning/"
      ]
    },
    {
      "cell_type": "markdown",
      "id": "9df272dd-b086-4f5d-a356-58cf1da925f6",
      "metadata": {
        "noteable": {
          "cell_type": "markdown"
        }
      },
      "source": [
        "## Introduce yourself\n",
        "| What's your name? | Where are you from? | Why are you here? |\n",
        "| --- | --- | --- |\n",
        "|Luke |Library |To learn and attempt help |\n",
        "|Mads |EAIT |Analyse data and hopefully get some help doing that |\n",
        "|Taneesha |School of the Environment: Conservation Science |Learn python coding for ArcGIS |\n",
        "|Cameron | Library | To learn and help!|\n",
        "|Nida |School of Chemistry & Molecular Biosciences|To learn more about python to work on molec bio data|\n",
        "|Nick Wiggins |Library |Here to help and mostly to learn |\n",
        "|Annie |SENV |here to ask all the questions! |\n",
        "| | | |\n",
        "| | | |\n",
        "| | | |\n",
        "| | | |\n",
        "| | | |\n",
        "| | | |\n",
        "| | | |\n",
        "| | | |\n",
        "| | | |\n",
        "| | | |\n",
        "| | | |\n",
        "| | | |\n",
        "| | | |"
      ]
    },
    {
      "cell_type": "markdown",
      "id": "b0184e3c-0b20-4c3f-a090-40bb06bcf366",
      "metadata": {
        "noteable": {
          "cell_type": "markdown"
        }
      },
      "source": [
        "## Questions\n",
        "\n",
        "If you have any Python questions you'd like to explore with the group, please put them in a markdown cell, with any code you'd like us to run in a Python cell."
      ]
    },
    {
      "cell_type": "markdown",
      "id": "65c4506f-fa66-4601-9277-41c12bb91e1a",
      "metadata": {
        "noteable": {
          "cell_type": "markdown"
        }
      },
      "source": [
        "### Question 1 - What are some \"best practices\" or the \"correct\" way of installing Python for the first time - Annie\n",
        "I frequently get \"path\" errors because I'm installed python somewhere and then the IDE can't find the path to Python (I think), and many \"hardcore\" programmers don't like Anaconda - they say it interferes with pip so what is the easiest both initially and later on down the line?"
      ]
    },
    {
      "cell_type": "markdown",
      "id": "6d9b32b5-6034-4997-8436-79ec42ce73a7",
      "metadata": {
        "noteable": {
          "cell_type": "markdown"
        }
      },
      "source": [
        "Nick - I'm going to try installing Python and vsCode using these instructions (https://github.com/Oracen/python-intro), and put all the files into one folder as Luke suggested"
      ]
    },
    {
      "cell_type": "code",
      "execution_count": null,
      "id": "06eb4a2b-b9f4-48d2-954d-837010fcebc4",
      "metadata": {
        "jupyter": {
          "source_hidden": true
        },
        "noteable": {
          "cell_type": "python"
        },
        "tags": []
      },
      "outputs": [],
      "source": [
        "## Code for Q1"
      ]
    },
    {
      "cell_type": "markdown",
      "id": "deef1c24-0a5a-41e4-bac1-5b2a6ed3671d",
      "metadata": {
        "noteable": {
          "cell_type": "markdown"
        }
      },
      "source": [
        "### Question 2 - Question - Nida\n",
        "In Spyder, sometimes when we want to import a module (i.e a .py file that contains certain functions/dictionary), it gives this error: \n",
        "\n",
        "ModuleNotFoundError: No module named 'translate'\n",
        "\n",
        "is this problem related to whether the file that we are trying to import is not saved in our working directory? \n",
        "\n",
        "How do we set that our working directory is in the place where we saved our file that we want to import as a module?\n",
        "\n",
        "I saw an Icon called \"browse a working directory\" in the top right of the Spyder, is this how we set our working directory? Or do we have to do sth else to change our working directory?\n",
        "\n",
        "Thank you so much"
      ]
    },
    {
      "cell_type": "code",
      "execution_count": null,
      "id": "e75282d1-65af-4148-bb7c-883e2ef42f4b",
      "metadata": {
        "noteable": {
          "cell_type": "python"
        }
      },
      "outputs": [],
      "source": [
        "# Access the system (using the module sys)\n",
        "import sys\n",
        "\n",
        "# This will display where you can put your modules\n",
        "print(sys.path)\n",
        "\n",
        "# This will add another location to the path (another folder where you can load modules)\n",
        "sys.path = sys.path + ['Location of your modules']"
      ]
    },
    {
      "cell_type": "markdown",
      "id": "86e4978a-292d-422d-80a4-ce85851cabbc",
      "metadata": {
        "noteable": {
          "cell_type": "markdown"
        }
      },
      "source": [
        "https://www.w3schools.com/python/python_ref_keywords.asp\n",
        "avoid to name your files or variables with these words or python will get confused!\n"
      ]
    },
    {
      "cell_type": "markdown",
      "id": "4824fdc5-98ad-49b4-91c2-d697b325dca4",
      "metadata": {
        "noteable": {
          "cell_type": "markdown"
        }
      },
      "source": [
        "#### Luke attempting to find answers\n",
        "\n",
        "The 'translate' module is causing a conflict - https://pypi.org/project/translate/\n",
        "\n",
        "This says you can do pip install to file path? - https://stackoverflow.com/questions/63790682/importing-custom-modules-py-files-into-virtual-environment#:~:text=You%20can%20create%20a%20setup.py%2C%20then%20install%20this,a%20module%20by%20pip%20pip%20install%20-e%20%2Fpath%2Fto%2Ffolder"
      ]
    },
    {
      "cell_type": "code",
      "execution_count": null,
      "id": "ef4f2e63-79f9-49bd-ac1d-257e69237013",
      "metadata": {
        "ExecuteTime": {
          "end_time": "2023-10-05T01:04:16.834957+00:00",
          "start_time": "2023-10-05T01:04:16.680245+00:00"
        },
        "jupyter": {
          "outputs_hidden": false,
          "source_hidden": false
        },
        "noteable": {
          "cell_type": "python",
          "output_collection_id": "37c7e32c-f52c-4e34-97b8-22ab0d6e7e49"
        },
        "tags": []
      },
      "outputs": [],
      "source": [
        "pip install translate"
      ]
    },
    {
      "cell_type": "markdown",
      "id": "d7c350d3-f8d7-44c1-ab19-59c28543ef30",
      "metadata": {
        "noteable": {
          "cell_type": "markdown"
        }
      },
      "source": [
        "### Question 3 - should you always be using venv (virtual environments) for every new project? - Annie\n",
        "what are the pros and cons of venv?"
      ]
    },
    {
      "cell_type": "code",
      "execution_count": null,
      "id": "a08854c2-97e4-46d4-9a45-8793ee3eca0c",
      "metadata": {
        "jupyter": {
          "outputs_hidden": false,
          "source_hidden": false
        },
        "noteable": {
          "cell_type": "python"
        },
        "tags": []
      },
      "outputs": [],
      "source": [
        "## Code for Q3"
      ]
    },
    {
      "cell_type": "markdown",
      "id": "6ec24e8f-c075-4144-bf19-f448732e1b9e",
      "metadata": {
        "noteable": {
          "cell_type": "markdown"
        }
      },
      "source": [
        "### Question 4 - where does one find packages available in Notable? e.g. google colab doesnt have all packages - Annie\n",
        "\n",
        "Add more details here"
      ]
    },
    {
      "cell_type": "code",
      "execution_count": null,
      "id": "c0f0d7c3-9428-4447-9ab0-b6477467739e",
      "metadata": {
        "ExecuteTime": {
          "end_time": "2023-10-05T01:30:36.785704+00:00",
          "start_time": "2023-10-05T01:30:36.056691+00:00"
        },
        "jupyter": {
          "outputs_hidden": false,
          "source_hidden": false
        },
        "noteable": {
          "cell_type": "python",
          "output_collection_id": "0443dddf-5f4a-445d-bb6f-6d6d3040cff6"
        },
        "tags": []
      },
      "outputs": [],
      "source": [
        "## Code for Q4\n",
        "help('modules')"
      ]
    },
    {
      "cell_type": "markdown",
      "id": "7457c19f-e38d-4367-ab5a-f03cc8419b5f",
      "metadata": {
        "noteable": {
          "cell_type": "markdown"
        }
      },
      "source": [
        "### Question 5 - Why does it sometimes take so long to use google collab? (i.e when we have to re-run everything again) is it bcs it is run the server which is different from server that we use to run our code with other environment? do we have place to store our .csv file?"
      ]
    },
    {
      "cell_type": "code",
      "execution_count": null,
      "id": "05f5f2f1-4784-446c-a556-aa61c14538a2",
      "metadata": {
        "jupyter": {
          "outputs_hidden": false,
          "source_hidden": false
        },
        "noteable": {
          "cell_type": "python"
        },
        "tags": []
      },
      "outputs": [],
      "source": [
        "## Code for Q5"
      ]
    },
    {
      "cell_type": "markdown",
      "id": "dbdc2188-9e97-48d2-9b51-625f231c7d43",
      "metadata": {
        "noteable": {
          "cell_type": "markdown"
        }
      },
      "source": [
        "### Question 6 - How do I fix an IndexError: list index out of range? -Taneesha\n",
        "Writing python code in ArcGIS to loop through a number of geoprocessing tools"
      ]
    },
    {
      "cell_type": "code",
      "execution_count": null,
      "id": "2ffa0916-298a-48c9-a6c6-2d6cc91b1ce5",
      "metadata": {
        "ExecuteTime": {
          "end_time": "2023-10-05T01:36:16.130864+00:00",
          "start_time": "2023-10-05T01:36:15.942585+00:00"
        },
        "noteable": {
          "cell_type": "python",
          "output_collection_id": "e9e6980d-1f4d-4652-829f-457e21505183"
        }
      },
      "outputs": [],
      "source": [
        "numbers = [0,1,2]\n",
        "\n",
        "letters = [\"a\",\"b\"]\n",
        "\n",
        "for i in numbers:\n",
        "    print(letters[i])"
      ]
    },
    {
      "cell_type": "markdown",
      "id": "e59d3796-7f8f-4629-a14a-8c247f010bda",
      "metadata": {
        "noteable": {
          "cell_type": "markdown"
        }
      },
      "source": [
        "Question 7 - do we have tools for running it line by line in spyder?"
      ]
    },
    {
      "cell_type": "code",
      "execution_count": null,
      "id": "f7c5f661-3662-4d07-b5e6-edf3482c699e",
      "metadata": {
        "jupyter": {
          "outputs_hidden": false,
          "source_hidden": false
        },
        "noteable": {
          "cell_type": "code"
        }
      },
      "outputs": [],
      "source": []
    },
    {
      "cell_type": "markdown",
      "id": "b247b02b-9289-423b-a755-d6b095dc98ce",
      "metadata": {
        "noteable": {
          "cell_type": "markdown"
        }
      },
      "source": [
        "Luke you mentioned you were interested in this - feel free to delete once you've seen this. https://www.deeplearning.ai/short-courses/langchain-chat-with-your-data/\n",
        "\n",
        "Thanks Jason. I have a playlist of YTs to work my way through currently. Found a channel where one of the videos I had some success with.\n",
        "This video - https://www.youtube.com/watch?v=wrD-fZvT6UI.\n",
        "So am trying more of his tutorials. Trying to do it without OpenAI API"
      ]
    }
  ],
  "metadata": {
    "kernel_info": {
      "name": "python3"
    },
    "kernelspec": {
      "display_name": "Python 3.9",
      "language": "python",
      "name": "python3"
    },
    "noteable": {},
    "selected_hardware_size": "small"
  },
  "nbformat": 4,
  "nbformat_minor": 5
}
