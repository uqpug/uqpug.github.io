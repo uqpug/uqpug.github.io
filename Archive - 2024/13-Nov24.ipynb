{
 "cells": [
  {
   "cell_type": "markdown",
   "metadata": {},
   "source": [
    "# 2024 Nov 7<sup>th</sup> -- UQ PUG 13\n",
    "\n",
    "Welcome to UQ Python User Group! Check out our [general info](../readme.md) for how we work and what we do. Below you'll find the details of this month's gathering.\n",
    "\n",
    "## Overview\n",
    "\n",
    "This month we will be discussing **Collaborative User Groups** (I know, it's a bit meta, but we're at [ResBaz](https://resbaz.github.io/resbaz2024qld/)!), before our usual workshopping of each other's questions.\n",
    "\n",
    "### Structure\n",
    "\n",
    "1. We start today by adding our names to the table below\n",
    "1. Add your questions to this page\n",
    "1. This month's presentation\n",
    "1. Finally, we spend the rest of the session answering the questions you've brought!\n",
    "\n",
    "### Teams\n",
    "\n",
    "We have moved from a mailing list to a Teams channel! [Opt-in to receive PUG updates](https://forms.office.com/Pages/ResponsePage.aspx?id=z3fjtrOdy0aRovrZYFuxXEzmI13TctBBiWhneXZv-1lUQ1MwQ0JUM0ZBS0hXV1NJSU04TEZEUFg2Si4u)\n",
    "\n",
    "### How to use this document\n",
    "\n",
    "This is a [Jupyter Notebook](https://jupyter.org/), a document format where everything is separated into **cells**. Each cell contains either *[markdown](https://www.markdownguide.org/)*, or *[python](https://www.python.org/)*.\n",
    "\n",
    "- The *markdown* cells allow you to write formatted text\n",
    "- The *python* cells allow you to write AND run python\n",
    "\n",
    "#### A few tips\n",
    "- Double click on a cell to edit it\n",
    "- CTRL + ENTER to run a cell\n",
    "- Press `+ Code` or `+ Markdown` in the top menu to create new cells. Alternatively, press the buttons between cells\n",
    "\n",
    "### Training Resources\n",
    "\n",
    "We offer Python training sessions and resources, you can find our introductory guide [here](https://github.com/uqlibrary/technology-training/blob/master/Python/python_intro/python_intro.md).\n"
   ]
  },
  {
   "cell_type": "markdown",
   "metadata": {},
   "source": [
    "## Introduce yourself\n",
    "| What's your name? | Where are you from? | Why are you here? |\n",
    "| --- | --- | --- |\n",
    "| Cameron | UQ Library & Physics | To share and learn | "
   ]
  },
  {
   "cell_type": "markdown",
   "metadata": {},
   "source": [
    "## Questions\n",
    "\n",
    "If you have any Python questions you'd like to explore with the group, please put your question and name in the sections below.\n",
    "\n",
    "If you think you can help, feel free to contribute to the answers section!\n"
   ]
  },
  {
   "cell_type": "markdown",
   "metadata": {},
   "source": [
    "### Question 1: User group experience | Cameron \n",
    "1. What has worked / not worked for user groups that you have participated in / facilitated?\n",
    "2. Is there anywhere you think a user group could work at your institution?"
   ]
  },
  {
   "cell_type": "code",
   "execution_count": null,
   "metadata": {},
   "outputs": [],
   "source": [
    "# Put any code you'd like to run here!"
   ]
  },
  {
   "cell_type": "markdown",
   "metadata": {},
   "source": [
    "#### Answers"
   ]
  },
  {
   "cell_type": "markdown",
   "metadata": {},
   "source": [
    "### Question 2: What's wrong with my code | Name\n",
    "Add more details here, then press CTRL + ENTER when you're done"
   ]
  },
  {
   "cell_type": "code",
   "execution_count": 1,
   "metadata": {},
   "outputs": [
    {
     "ename": "SyntaxError",
     "evalue": "invalid syntax (1360112253.py, line 3)",
     "output_type": "error",
     "traceback": [
      "\u001b[1;36m  Cell \u001b[1;32mIn[1], line 3\u001b[1;36m\u001b[0m\n\u001b[1;33m    imprt pandas\u001b[0m\n\u001b[1;37m          ^\u001b[0m\n\u001b[1;31mSyntaxError\u001b[0m\u001b[1;31m:\u001b[0m invalid syntax\n"
     ]
    }
   ],
   "source": [
    "# Put any code you'd like to run here! CTRL + ENTER will run the cell\n",
    "\n",
    "imprt pandas"
   ]
  },
  {
   "cell_type": "code",
   "execution_count": 3,
   "metadata": {},
   "outputs": [
    {
     "name": "stdout",
     "output_type": "stream",
     "text": [
      "worked!\n"
     ]
    }
   ],
   "source": [
    "# Fix the typo\n",
    "import pandas\n",
    "print(\"worked!\")"
   ]
  },
  {
   "cell_type": "markdown",
   "metadata": {},
   "source": [
    "#### Answers"
   ]
  },
  {
   "cell_type": "markdown",
   "metadata": {},
   "source": [
    "### Question 3: Question | Name\n",
    "Add more details here, then press CTRL + ENTER when you're done"
   ]
  },
  {
   "cell_type": "code",
   "execution_count": null,
   "metadata": {},
   "outputs": [],
   "source": [
    "# Put any code you'd like to run here!"
   ]
  },
  {
   "cell_type": "markdown",
   "metadata": {},
   "source": [
    "#### Answers"
   ]
  },
  {
   "cell_type": "markdown",
   "metadata": {},
   "source": [
    "### Question 4: Question | Name\n",
    "Add more details here, then press CTRL + ENTER when you're done"
   ]
  },
  {
   "cell_type": "code",
   "execution_count": null,
   "metadata": {},
   "outputs": [],
   "source": [
    "# Put any code you'd like to run here!"
   ]
  },
  {
   "cell_type": "markdown",
   "metadata": {},
   "source": [
    "#### Answers"
   ]
  },
  {
   "cell_type": "markdown",
   "metadata": {},
   "source": [
    "### Question 5: Question | Name\n",
    "Add more details here, then press CTRL + ENTER when you're done"
   ]
  },
  {
   "cell_type": "code",
   "execution_count": null,
   "metadata": {},
   "outputs": [],
   "source": [
    "# Put any code you'd like to run here!"
   ]
  },
  {
   "cell_type": "markdown",
   "metadata": {},
   "source": [
    "#### Answers"
   ]
  }
 ],
 "metadata": {
  "kernelspec": {
   "display_name": "Python 3",
   "language": "python",
   "name": "python3"
  },
  "language_info": {
   "codemirror_mode": {
    "name": "ipython",
    "version": 3
   },
   "file_extension": ".py",
   "mimetype": "text/x-python",
   "name": "python",
   "nbconvert_exporter": "python",
   "pygments_lexer": "ipython3",
   "version": "3.12.1"
  }
 },
 "nbformat": 4,
 "nbformat_minor": 2
}
