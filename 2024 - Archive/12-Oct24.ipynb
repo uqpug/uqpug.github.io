{
 "cells": [
  {
   "cell_type": "markdown",
   "metadata": {},
   "source": [
    "# 2024 Oct 3<sup>rd</sup> -- UQ PUG 12\n",
    "\n",
    "Welcome to UQ Python User Group! Check out our [general info](../readme.md) for how we work and what we do. Below you'll find the details of this month's gathering.\n",
    "\n",
    "## Overview\n",
    "\n",
    "This month we will be discussing **Version Control with GitHub**, as well as testing out VSCode Liveshare!\n",
    "\n",
    "### Structure\n",
    "\n",
    "1. We start today by adding our names to the table below\n",
    "1. Add your questions to this page\n",
    "1. This month's presentation\n",
    "1. Finally, we spend the rest of the session answering the questions you've brought!\n",
    "\n",
    "### Teams\n",
    "\n",
    "We have moved from a mailing list to a Teams channel! [Opt-in to receive PUG updates](https://forms.office.com/Pages/ResponsePage.aspx?id=z3fjtrOdy0aRovrZYFuxXEzmI13TctBBiWhneXZv-1lUQ1MwQ0JUM0ZBS0hXV1NJSU04TEZEUFg2Si4u)\n",
    "\n",
    "### How to use this document\n",
    "\n",
    "This is a [Jupyter Notebook](https://jupyter.org/), a document format where everything is separated into **cells**. Each cell contains either *[markdown](https://www.markdownguide.org/)*, or *[python](https://www.python.org/)*.\n",
    "\n",
    "- The *markdown* cells allow you to write formatted text\n",
    "- The *python* cells allow you to write AND run python\n",
    "\n",
    "#### A few tips\n",
    "- Double click on a cell to edit it\n",
    "- CTRL + ENTER to run a cell\n",
    "- Press `+ Code` or `+ Markdown` in the top menu to create new cells. Alternatively, press the buttons between cells\n",
    "\n",
    "### Training Resources\n",
    "\n",
    "We offer Python training sessions and resources, you can find our introductory guide [here](https://github.com/uqlibrary/technology-training/blob/master/Python/python_intro/python_intro.md).\n"
   ]
  },
  {
   "cell_type": "markdown",
   "metadata": {},
   "source": [
    "## Introduce yourself\n",
    "| What's your name? | Where are you from? | Why are you here? |\n",
    "| --- | --- | --- |\n",
    "| Prakash Rai |From home |Just learning from scratch | \n",
    "| Stéphane Guillou | UQ Library | For fun! |\n",
    "| Ismael Khan | UQ GET | Help and learn |\n",
    "| Cameron West | UQ Library / SMP | To help (and learn) |\n",
    "| Luke | Library | To learn and try to help |\n",
    "| Shaochen | UQ GET | Learn and help |\n",
    "| Elizabeth Zhu | | |\n",
    "| | | |\n",
    "| | | |\n",
    "| | | |\n",
    "| | | |\n",
    "| | | |"
   ]
  },
  {
   "cell_type": "markdown",
   "metadata": {},
   "source": [
    "## Questions\n",
    "\n",
    "If you have any Python questions you'd like to explore with the group, please put your question and name in the sections below.\n",
    "\n",
    "If you think you can help, feel free to contribute to the answers section!\n"
   ]
  },
  {
   "cell_type": "markdown",
   "metadata": {},
   "source": [
    "### Question 1: What do we use Python for? | Ismael\n",
    "\n",
    "* Luke: finds genAI to be more helpful with Python than R. Usually use Python and R for data processing.\n",
    "* Cam: graphing with matplotlib for the most part.\n",
    "* Ismael: matplotlib, pandas, numpy...\n",
    "* Prakash: wants to learn more about both R and Python\n",
    "* Elizabeth: text analysis, deep learning, machine learning, sentiment analysis... in the communication between industry and investors\n",
    "* "
   ]
  },
  {
   "cell_type": "code",
   "execution_count": 1,
   "metadata": {},
   "outputs": [
    {
     "data": {
      "text/plain": [
       "2"
      ]
     },
     "execution_count": 1,
     "metadata": {},
     "output_type": "execute_result"
    }
   ],
   "source": [
    "# Put any code you'd like to run here!"
   ]
  },
  {
   "cell_type": "markdown",
   "metadata": {},
   "source": [
    "### Question 2: Python for trading/investments? | Elizabeth\n",
    "\n",
    "* Module for creating User Interfaces: PySide6, which uses Qt.\n",
    "    * https://pypi.org/project/PySide6/\n",
    "    * similar to PyQt\n"
   ]
  },
  {
   "cell_type": "code",
   "execution_count": null,
   "metadata": {},
   "outputs": [],
   "source": [
    "# Put any code you'd like to run here! CTRL + ENTER will run the cell"
   ]
  },
  {
   "cell_type": "markdown",
   "metadata": {},
   "source": [
    "### Next month: PUG at ResBaz!\n",
    "\n",
    "We will be at ResBaz QLD 2024, at ACU, for a larger meetup with other communities of practice! Please join us on Thursday the 7th of October at 11 am.\n",
    "\n",
    "* Website: https://resbaz.github.io/resbaz2024qld/\n",
    "* Volunteer: https://docs.google.com/forms/d/e/1FAIpQLSd689WEt6ZJPmd-833S7DaHjthJlvcNmm6qSfePuqnxiyrg6Q/viewform"
   ]
  },
  {
   "cell_type": "code",
   "execution_count": null,
   "metadata": {},
   "outputs": [],
   "source": [
    "# Put any code you'd like to run here!"
   ]
  },
  {
   "cell_type": "markdown",
   "metadata": {},
   "source": [
    "### Question 4: Question | Name\n",
    "Add more details here, then press CTRL + ENTER when you're done"
   ]
  },
  {
   "cell_type": "code",
   "execution_count": null,
   "metadata": {},
   "outputs": [],
   "source": [
    "# Put any code you'd like to run here!"
   ]
  },
  {
   "cell_type": "markdown",
   "metadata": {},
   "source": [
    "### Question 5: Question | Name\n",
    "Add more details here, then press CTRL + ENTER when you're done"
   ]
  },
  {
   "cell_type": "code",
   "execution_count": null,
   "metadata": {},
   "outputs": [],
   "source": [
    "# Put any code you'd like to run here!"
   ]
  }
 ],
 "metadata": {
  "kernelspec": {
   "display_name": "Python 3",
   "language": "python",
   "name": "python3"
  },
  "language_info": {
   "codemirror_mode": {
    "name": "ipython",
    "version": 3
   },
   "file_extension": ".py",
   "mimetype": "text/x-python",
   "name": "python",
   "nbconvert_exporter": "python",
   "pygments_lexer": "ipython3",
   "version": "3.12.1"
  }
 },
 "nbformat": 4,
 "nbformat_minor": 2
}
